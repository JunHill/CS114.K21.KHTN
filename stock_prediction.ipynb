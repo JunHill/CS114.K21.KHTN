{
  "nbformat": 4,
  "nbformat_minor": 0,
  "metadata": {
    "kernelspec": {
      "display_name": "Python 3",
      "language": "python",
      "name": "python3"
    },
    "language_info": {
      "codemirror_mode": {
        "name": "ipython",
        "version": 3
      },
      "file_extension": ".py",
      "mimetype": "text/x-python",
      "name": "python",
      "nbconvert_exporter": "python",
      "pygments_lexer": "ipython3",
      "version": "3.6.5"
    },
    "colab": {
      "name": "stock-prediction.ipynb",
      "provenance": [],
      "include_colab_link": true
    }
  },
  "cells": [
    {
      "cell_type": "markdown",
      "metadata": {
        "id": "view-in-github",
        "colab_type": "text"
      },
      "source": [
        "<a href=\"https://colab.research.google.com/github/JunHill/CS114.K21.KHTN/blob/master/stock_prediction.ipynb\" target=\"_parent\"><img src=\"https://colab.research.google.com/assets/colab-badge.svg\" alt=\"Open In Colab\"/></a>"
      ]
    },
    {
      "cell_type": "markdown",
      "metadata": {
        "id": "jZtmxN4wxNr9",
        "colab_type": "text"
      },
      "source": [
        "**STOCK PREDICTION USING MACHINE LEARNING TECHNIQUES**\n",
        "\n",
        "Thị trường cổ phiếu là một mảnh đất tuy màu mỡ nhưng rất khó xơi cho các nhà phân tích dữ liệu muốn thử sức mình. Với có nguồn dataset phong phú (có thể dễ dàng download bộ dữ liệu giá cổ phiếu của một công ty về xử lí), bài toán dự đoán cổ phiếu rất thích hợp cho việc áp dụng các machine learning model, triệt tiêu các yếu tố cảm xúc mà đưa ra dự đoán thuần logic; Tuy việc kiếm lời cho tới nay vẫn là vô cùng khó."
      ]
    },
    {
      "cell_type": "markdown",
      "metadata": {
        "id": "SHLEXfHayw0N",
        "colab_type": "text"
      },
      "source": [
        "Vì lí do đó, không tập trung vào việc kiếm lời mà sẽ tập trung vào nghiên cứu thuần túy, project này đề xuất ra một số model machine learning cơ bản (linear regression, K nearest neighbors) và một số deep model (Long short-term memory) để cùng so sánh hiệu suất. \n",
        "Input: Historical data tải từ Yahoo Financial và huge stock dataset từ kaggle \n",
        "Output:  dự đoán hướng đi của giá stock trong 6 tháng tới"
      ]
    },
    {
      "cell_type": "code",
      "metadata": {
        "id": "0IjXwlYrwdBW",
        "colab_type": "code",
        "colab": {}
      },
      "source": [
        "import pandas as pd\n",
        "import matplotlib.pyplot as plt\n"
      ],
      "execution_count": 0,
      "outputs": []
    },
    {
      "cell_type": "code",
      "metadata": {
        "id": "PKS0IAJ7wdBb",
        "colab_type": "code",
        "colab": {}
      },
      "source": [
        "df = pd.read_csv(\"^DJI.csv\")"
      ],
      "execution_count": 0,
      "outputs": []
    },
    {
      "cell_type": "code",
      "metadata": {
        "id": "6lJoobuUwdBf",
        "colab_type": "code",
        "colab": {}
      },
      "source": [
        "test_df=df[df['Date']>'2015-12-30']"
      ],
      "execution_count": 0,
      "outputs": []
    },
    {
      "cell_type": "code",
      "metadata": {
        "id": "R8POS1UDwdBi",
        "colab_type": "code",
        "colab": {},
        "outputId": "9b87bfa8-7146-4fda-fdf4-508c427debca"
      },
      "source": [
        "test_df.head()"
      ],
      "execution_count": 0,
      "outputs": [
        {
          "output_type": "execute_result",
          "data": {
            "text/html": [
              "<div>\n",
              "<style scoped>\n",
              "    .dataframe tbody tr th:only-of-type {\n",
              "        vertical-align: middle;\n",
              "    }\n",
              "\n",
              "    .dataframe tbody tr th {\n",
              "        vertical-align: top;\n",
              "    }\n",
              "\n",
              "    .dataframe thead th {\n",
              "        text-align: right;\n",
              "    }\n",
              "</style>\n",
              "<table border=\"1\" class=\"dataframe\">\n",
              "  <thead>\n",
              "    <tr style=\"text-align: right;\">\n",
              "      <th></th>\n",
              "      <th>Date</th>\n",
              "      <th>Open</th>\n",
              "      <th>High</th>\n",
              "      <th>Low</th>\n",
              "      <th>Close</th>\n",
              "      <th>Adj Close</th>\n",
              "      <th>Volume</th>\n",
              "    </tr>\n",
              "  </thead>\n",
              "  <tbody>\n",
              "    <tr>\n",
              "      <th>3830</th>\n",
              "      <td>2015-12-31</td>\n",
              "      <td>17590.660156</td>\n",
              "      <td>17590.660156</td>\n",
              "      <td>17421.160156</td>\n",
              "      <td>17425.029297</td>\n",
              "      <td>17425.029297</td>\n",
              "      <td>93690000</td>\n",
              "    </tr>\n",
              "    <tr>\n",
              "      <th>3831</th>\n",
              "      <td>2016-01-04</td>\n",
              "      <td>17405.480469</td>\n",
              "      <td>17405.480469</td>\n",
              "      <td>16957.630859</td>\n",
              "      <td>17148.939453</td>\n",
              "      <td>17148.939453</td>\n",
              "      <td>148060000</td>\n",
              "    </tr>\n",
              "    <tr>\n",
              "      <th>3832</th>\n",
              "      <td>2016-01-05</td>\n",
              "      <td>17147.500000</td>\n",
              "      <td>17195.839844</td>\n",
              "      <td>17038.609375</td>\n",
              "      <td>17158.660156</td>\n",
              "      <td>17158.660156</td>\n",
              "      <td>105750000</td>\n",
              "    </tr>\n",
              "    <tr>\n",
              "      <th>3833</th>\n",
              "      <td>2016-01-06</td>\n",
              "      <td>17154.830078</td>\n",
              "      <td>17154.830078</td>\n",
              "      <td>16817.619141</td>\n",
              "      <td>16906.509766</td>\n",
              "      <td>16906.509766</td>\n",
              "      <td>120250000</td>\n",
              "    </tr>\n",
              "    <tr>\n",
              "      <th>3834</th>\n",
              "      <td>2016-01-07</td>\n",
              "      <td>16888.359375</td>\n",
              "      <td>16888.359375</td>\n",
              "      <td>16463.630859</td>\n",
              "      <td>16514.099609</td>\n",
              "      <td>16514.099609</td>\n",
              "      <td>176240000</td>\n",
              "    </tr>\n",
              "  </tbody>\n",
              "</table>\n",
              "</div>"
            ],
            "text/plain": [
              "            Date          Open          High           Low         Close  \\\n",
              "3830  2015-12-31  17590.660156  17590.660156  17421.160156  17425.029297   \n",
              "3831  2016-01-04  17405.480469  17405.480469  16957.630859  17148.939453   \n",
              "3832  2016-01-05  17147.500000  17195.839844  17038.609375  17158.660156   \n",
              "3833  2016-01-06  17154.830078  17154.830078  16817.619141  16906.509766   \n",
              "3834  2016-01-07  16888.359375  16888.359375  16463.630859  16514.099609   \n",
              "\n",
              "         Adj Close     Volume  \n",
              "3830  17425.029297   93690000  \n",
              "3831  17148.939453  148060000  \n",
              "3832  17158.660156  105750000  \n",
              "3833  16906.509766  120250000  \n",
              "3834  16514.099609  176240000  "
            ]
          },
          "metadata": {
            "tags": []
          },
          "execution_count": 81
        }
      ]
    },
    {
      "cell_type": "markdown",
      "metadata": {
        "id": "Fk8oLRpp0lVu",
        "colab_type": "text"
      },
      "source": [
        "Mô tả bộ dữ liệu: đây là bộ dữ liệu EOD gồm 7 cột data, open (giá mở cửa), high (giá cao nhất ngày), low (giá thấp nhất ngày), close (giá chốt ngày), adj close (adjusted close theo cổ tức), volume (lượng mua bán trong ngày) "
      ]
    },
    {
      "cell_type": "code",
      "metadata": {
        "id": "8YDX9btA0p96",
        "colab_type": "code",
        "colab": {}
      },
      "source": [
        ""
      ],
      "execution_count": 0,
      "outputs": []
    }
  ]
}